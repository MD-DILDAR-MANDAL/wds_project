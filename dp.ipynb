{
 "cells": [
  {
   "cell_type": "code",
   "execution_count": 1,
   "metadata": {},
   "outputs": [
    {
     "name": "stdout",
     "output_type": "stream",
     "text": [
      "Resizing and bounding box adjustment complete.\n"
     ]
    }
   ],
   "source": [
    "import os\n",
    "import pandas as pd\n",
    "from PIL import Image\n",
    "\n",
    "# Define the paths to each set\n",
    "dataset_path = 'dataset'\n",
    "output_path = 'output_dataset'  # Path to save resized images and updated CSVs\n",
    "resize_dim = (224, 224)  # Target size\n",
    "\n",
    "# Function to resize images and adjust bounding boxes\n",
    "def resize_images_and_bboxes(data_folder):\n",
    "    # Load the CSV file\n",
    "    csv_path = os.path.join(data_folder, '_annotations.csv')\n",
    "    df = pd.read_csv(csv_path)\n",
    "\n",
    "    # Loop through each image in the CSV\n",
    "    for i, row in df.iterrows():\n",
    "        img_path = os.path.join(data_folder, row['filename'])\n",
    "        image = Image.open(img_path)\n",
    "\n",
    "        # Calculate scale factors for bounding box adjustment\n",
    "        width, height = image.size\n",
    "        x_scale = resize_dim[0] / width\n",
    "        y_scale = resize_dim[1] / height\n",
    "\n",
    "        # Resize the image\n",
    "        image_resized = image.resize(resize_dim)\n",
    "        output_img_path = os.path.join(output_path, data_folder, row['filename'])\n",
    "        os.makedirs(os.path.dirname(output_img_path), exist_ok=True)\n",
    "        image_resized.save(output_img_path)\n",
    "\n",
    "        # Update bounding box coordinates\n",
    "        df.at[i, 'xmin'] = int(row['xmin'] * x_scale)\n",
    "        df.at[i, 'ymin'] = int(row['ymin'] * y_scale)\n",
    "        df.at[i, 'xmax'] = int(row['xmax'] * x_scale)\n",
    "        df.at[i, 'ymax'] = int(row['ymax'] * y_scale)\n",
    "\n",
    "    # Save the updated CSV file\n",
    "    updated_csv_path = os.path.join(output_path, data_folder, '_annotations.csv')\n",
    "    os.makedirs(os.path.dirname(updated_csv_path), exist_ok=True)\n",
    "    df.to_csv(updated_csv_path, index=False)\n",
    "\n",
    "# Process each set\n",
    "for folder in ['train', 'valid', 'test']:\n",
    "    resize_images_and_bboxes(os.path.join(dataset_path, folder))\n",
    "\n",
    "print(\"Resizing and bounding box adjustment complete.\")\n"
   ]
  }
 ],
 "metadata": {
  "kernelspec": {
   "display_name": ".testenv",
   "language": "python",
   "name": "python3"
  },
  "language_info": {
   "codemirror_mode": {
    "name": "ipython",
    "version": 3
   },
   "file_extension": ".py",
   "mimetype": "text/x-python",
   "name": "python",
   "nbconvert_exporter": "python",
   "pygments_lexer": "ipython3",
   "version": "3.11.9"
  }
 },
 "nbformat": 4,
 "nbformat_minor": 2
}
